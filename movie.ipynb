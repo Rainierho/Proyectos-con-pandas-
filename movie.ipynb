{
 "cells": [
  {
   "cell_type": "code",
   "execution_count": 66,
   "metadata": {},
   "outputs": [],
   "source": [
    "import pandas as pd\n",
    "import matplotlib.pyplot as plt\n",
    "import numpy as np"
   ]
  },
  {
   "cell_type": "code",
   "execution_count": 67,
   "metadata": {},
   "outputs": [
    {
     "data": {
      "text/html": [
       "<div>\n",
       "<style scoped>\n",
       "    .dataframe tbody tr th:only-of-type {\n",
       "        vertical-align: middle;\n",
       "    }\n",
       "\n",
       "    .dataframe tbody tr th {\n",
       "        vertical-align: top;\n",
       "    }\n",
       "\n",
       "    .dataframe thead th {\n",
       "        text-align: right;\n",
       "    }\n",
       "</style>\n",
       "<table border=\"1\" class=\"dataframe\">\n",
       "  <thead>\n",
       "    <tr style=\"text-align: right;\">\n",
       "      <th></th>\n",
       "      <th>movie title</th>\n",
       "      <th>Run Time</th>\n",
       "      <th>Rating</th>\n",
       "      <th>User Rating</th>\n",
       "      <th>Generes</th>\n",
       "      <th>Overview</th>\n",
       "      <th>Plot Kyeword</th>\n",
       "      <th>Director</th>\n",
       "      <th>Top 5 Casts</th>\n",
       "      <th>Writer</th>\n",
       "      <th>year</th>\n",
       "      <th>path</th>\n",
       "    </tr>\n",
       "  </thead>\n",
       "  <tbody>\n",
       "    <tr>\n",
       "      <th>0</th>\n",
       "      <td>Top Gun: Maverick</td>\n",
       "      <td>$170,000,000 (estimated)</td>\n",
       "      <td>8.6</td>\n",
       "      <td>187K</td>\n",
       "      <td>['Action', 'Drama']</td>\n",
       "      <td>After more than thirty years of service as one...</td>\n",
       "      <td>['fighter jet', 'sequel', 'u.s. navy', 'fighte...</td>\n",
       "      <td>Joseph Kosinski</td>\n",
       "      <td>['Jack Epps Jr.', 'Peter Craig', 'Tom Cruise',...</td>\n",
       "      <td>Jim Cash</td>\n",
       "      <td>-2022</td>\n",
       "      <td>/title/tt1745960/</td>\n",
       "    </tr>\n",
       "    <tr>\n",
       "      <th>1</th>\n",
       "      <td>Jurassic World Dominion</td>\n",
       "      <td>2 hours 27 minutes</td>\n",
       "      <td>6</td>\n",
       "      <td>56K</td>\n",
       "      <td>['Action', 'Adventure', 'Sci-Fi']</td>\n",
       "      <td>Four years after the destruction of Isla Nubla...</td>\n",
       "      <td>['dinosaur', 'jurassic park', 'tyrannosaurus r...</td>\n",
       "      <td>Colin Trevorrow</td>\n",
       "      <td>['Colin Trevorrow', 'Derek Connolly', 'Chris P...</td>\n",
       "      <td>Emily Carmichael</td>\n",
       "      <td>-2022</td>\n",
       "      <td>/title/tt8041270/</td>\n",
       "    </tr>\n",
       "    <tr>\n",
       "      <th>2</th>\n",
       "      <td>Top Gun</td>\n",
       "      <td>$15,000,000 (estimated)</td>\n",
       "      <td>6.9</td>\n",
       "      <td>380K</td>\n",
       "      <td>['Action', 'Drama']</td>\n",
       "      <td>As students at the United States Navy's elite ...</td>\n",
       "      <td>['pilot', 'male camaraderie', 'u.s. navy', 'gr...</td>\n",
       "      <td>Tony Scott</td>\n",
       "      <td>['Jack Epps Jr.', 'Ehud Yonay', 'Tom Cruise', ...</td>\n",
       "      <td>Jim Cash</td>\n",
       "      <td>-1986</td>\n",
       "      <td>/title/tt0092099/</td>\n",
       "    </tr>\n",
       "    <tr>\n",
       "      <th>3</th>\n",
       "      <td>Lightyear</td>\n",
       "      <td>$71,101,257</td>\n",
       "      <td>5.2</td>\n",
       "      <td>32K</td>\n",
       "      <td>['Animation', 'Action', 'Adventure']</td>\n",
       "      <td>While spending years attempting to return home...</td>\n",
       "      <td>['galaxy', 'spaceship', 'robot', 'rocket', 'sp...</td>\n",
       "      <td>Angus MacLane</td>\n",
       "      <td>['Jason Headley', 'Matthew Aldrich', 'Chris Ev...</td>\n",
       "      <td>Angus MacLane</td>\n",
       "      <td>-2022</td>\n",
       "      <td>/title/tt10298810/</td>\n",
       "    </tr>\n",
       "    <tr>\n",
       "      <th>4</th>\n",
       "      <td>Spiderhead</td>\n",
       "      <td>not-released</td>\n",
       "      <td>5.4</td>\n",
       "      <td>23K</td>\n",
       "      <td>['Action', 'Crime', 'Drama']</td>\n",
       "      <td>In the near future, convicts are offered the c...</td>\n",
       "      <td>['discover', 'medical', 'test', 'reality', 'fi...</td>\n",
       "      <td>Joseph Kosinski</td>\n",
       "      <td>['Rhett Reese', 'Paul Wernick', 'Chris Hemswor...</td>\n",
       "      <td>George Saunders</td>\n",
       "      <td>-2022</td>\n",
       "      <td>/title/tt9783600/</td>\n",
       "    </tr>\n",
       "  </tbody>\n",
       "</table>\n",
       "</div>"
      ],
      "text/plain": [
       "               movie title                  Run Time Rating User Rating  \\\n",
       "0        Top Gun: Maverick  $170,000,000 (estimated)    8.6        187K   \n",
       "1  Jurassic World Dominion        2 hours 27 minutes      6         56K   \n",
       "2                  Top Gun   $15,000,000 (estimated)    6.9        380K   \n",
       "3                Lightyear               $71,101,257    5.2         32K   \n",
       "4               Spiderhead              not-released    5.4         23K   \n",
       "\n",
       "                                Generes  \\\n",
       "0                   ['Action', 'Drama']   \n",
       "1     ['Action', 'Adventure', 'Sci-Fi']   \n",
       "2                   ['Action', 'Drama']   \n",
       "3  ['Animation', 'Action', 'Adventure']   \n",
       "4          ['Action', 'Crime', 'Drama']   \n",
       "\n",
       "                                            Overview  \\\n",
       "0  After more than thirty years of service as one...   \n",
       "1  Four years after the destruction of Isla Nubla...   \n",
       "2  As students at the United States Navy's elite ...   \n",
       "3  While spending years attempting to return home...   \n",
       "4  In the near future, convicts are offered the c...   \n",
       "\n",
       "                                        Plot Kyeword         Director  \\\n",
       "0  ['fighter jet', 'sequel', 'u.s. navy', 'fighte...  Joseph Kosinski   \n",
       "1  ['dinosaur', 'jurassic park', 'tyrannosaurus r...  Colin Trevorrow   \n",
       "2  ['pilot', 'male camaraderie', 'u.s. navy', 'gr...       Tony Scott   \n",
       "3  ['galaxy', 'spaceship', 'robot', 'rocket', 'sp...    Angus MacLane   \n",
       "4  ['discover', 'medical', 'test', 'reality', 'fi...  Joseph Kosinski   \n",
       "\n",
       "                                         Top 5 Casts            Writer   year  \\\n",
       "0  ['Jack Epps Jr.', 'Peter Craig', 'Tom Cruise',...          Jim Cash  -2022   \n",
       "1  ['Colin Trevorrow', 'Derek Connolly', 'Chris P...  Emily Carmichael  -2022   \n",
       "2  ['Jack Epps Jr.', 'Ehud Yonay', 'Tom Cruise', ...          Jim Cash  -1986   \n",
       "3  ['Jason Headley', 'Matthew Aldrich', 'Chris Ev...     Angus MacLane  -2022   \n",
       "4  ['Rhett Reese', 'Paul Wernick', 'Chris Hemswor...   George Saunders  -2022   \n",
       "\n",
       "                 path  \n",
       "0   /title/tt1745960/  \n",
       "1   /title/tt8041270/  \n",
       "2   /title/tt0092099/  \n",
       "3  /title/tt10298810/  \n",
       "4   /title/tt9783600/  "
      ]
     },
     "execution_count": 67,
     "metadata": {},
     "output_type": "execute_result"
    }
   ],
   "source": [
    "movie = pd.read_csv('25k IMDb movie Dataset.csv')\n",
    "movie.head()"
   ]
  },
  {
   "attachments": {},
   "cell_type": "markdown",
   "metadata": {},
   "source": [
    "#### Chequear valores nulos "
   ]
  },
  {
   "cell_type": "code",
   "execution_count": 68,
   "metadata": {},
   "outputs": [
    {
     "data": {
      "text/plain": [
       "movie title       0\n",
       "Run Time          0\n",
       "Rating            0\n",
       "User Rating       0\n",
       "Generes           0\n",
       "Overview        244\n",
       "Plot Kyeword      0\n",
       "Director          0\n",
       "Top 5 Casts       0\n",
       "Writer            0\n",
       "year            778\n",
       "path              0\n",
       "dtype: int64"
      ]
     },
     "execution_count": 68,
     "metadata": {},
     "output_type": "execute_result"
    }
   ],
   "source": [
    "movie.isnull().sum()"
   ]
  },
  {
   "attachments": {},
   "cell_type": "markdown",
   "metadata": {},
   "source": [
    "#### Eliminar valores nulos"
   ]
  },
  {
   "cell_type": "code",
   "execution_count": 69,
   "metadata": {},
   "outputs": [
    {
     "data": {
      "text/plain": [
       "movie title     0\n",
       "Run Time        0\n",
       "Rating          0\n",
       "User Rating     0\n",
       "Generes         0\n",
       "Overview        0\n",
       "Plot Kyeword    0\n",
       "Director        0\n",
       "Top 5 Casts     0\n",
       "Writer          0\n",
       "year            0\n",
       "path            0\n",
       "dtype: int64"
      ]
     },
     "execution_count": 69,
     "metadata": {},
     "output_type": "execute_result"
    }
   ],
   "source": [
    "movie[movie.year.isnull()]\n",
    "movie.drop(movie[movie['year'].isnull()].index,inplace=True)\n",
    "movie.drop(movie[movie['Overview'].isnull()].index,inplace=True)\n",
    "movie.drop(movie[movie['Rating']=='no-rating'].index,inplace=True)\n",
    "\n",
    "movie.isnull().sum()"
   ]
  },
  {
   "attachments": {},
   "cell_type": "markdown",
   "metadata": {},
   "source": [
    "#### Eliminar columnas innecesarias "
   ]
  },
  {
   "cell_type": "code",
   "execution_count": 70,
   "metadata": {},
   "outputs": [],
   "source": [
    "movie.drop(columns=['Run Time','Overview','path','Plot Kyeword'],inplace=True,axis=1)\n"
   ]
  },
  {
   "attachments": {},
   "cell_type": "markdown",
   "metadata": {},
   "source": [
    "### Cambiar formatos de user rating y el año "
   ]
  },
  {
   "cell_type": "code",
   "execution_count": 71,
   "metadata": {},
   "outputs": [
    {
     "data": {
      "text/plain": [
       "<bound method Series.unique of 0        2022\n",
       "2        1986\n",
       "13       1993\n",
       "15       2021\n",
       "19       2015\n",
       "         ... \n",
       "13796    1919\n",
       "13860    1920\n",
       "14246    1913\n",
       "16269    2025\n",
       "19947    1922\n",
       "Name: year, Length: 113, dtype: object>"
      ]
     },
     "execution_count": 71,
     "metadata": {},
     "output_type": "execute_result"
    }
   ],
   "source": [
    "import re\n",
    "\n",
    "movie['User Rating'] = movie['User Rating'].str.replace('K','000')\n",
    "movie['User Rating'] = movie['User Rating'].str.replace('M','0000')\n",
    "movie['year'] = movie['year'].str.replace(r'[^0-9]','',regex=True)\n",
    "movie['year'].drop_duplicates().unique"
   ]
  },
  {
   "attachments": {},
   "cell_type": "markdown",
   "metadata": {},
   "source": [
    "#### Convertir en tipo numerico las columnas user rating ,rating ,year"
   ]
  },
  {
   "cell_type": "code",
   "execution_count": 72,
   "metadata": {},
   "outputs": [
    {
     "data": {
      "text/plain": [
       "movie title    0\n",
       "Rating         0\n",
       "User Rating    0\n",
       "Generes        0\n",
       "Director       0\n",
       "Top 5 Casts    0\n",
       "Writer         0\n",
       "year           0\n",
       "dtype: int64"
      ]
     },
     "execution_count": 72,
     "metadata": {},
     "output_type": "execute_result"
    }
   ],
   "source": [
    "movie[['User Rating','Rating']] = movie[['User Rating','Rating']].apply(lambda x : x.astype('float'),axis=1)\n",
    "pd.to_numeric(movie['year'], downcast=\"integer\",errors='coerce')\n",
    "movie.drop(movie[movie['year'].isnull()].index,inplace=True)\n",
    "movie.isnull().sum()"
   ]
  },
  {
   "cell_type": "code",
   "execution_count": 73,
   "metadata": {},
   "outputs": [],
   "source": [
    "movie.rename(columns={'Generes':'genres'},inplace=True)\n",
    "movie.columns = movie.columns.str.replace(' ','_')\n",
    "movie.columns = movie.columns.str.lower()"
   ]
  },
  {
   "cell_type": "code",
   "execution_count": 74,
   "metadata": {},
   "outputs": [],
   "source": [
    "clean_data_movie = movie\n",
    "clean_data_movie.to_csv('clean_data_movie.csv',)"
   ]
  },
  {
   "attachments": {},
   "cell_type": "markdown",
   "metadata": {},
   "source": [
    "#### Exploracion de datos"
   ]
  },
  {
   "cell_type": "code",
   "execution_count": 75,
   "metadata": {},
   "outputs": [
    {
     "data": {
      "text/html": [
       "<div>\n",
       "<style scoped>\n",
       "    .dataframe tbody tr th:only-of-type {\n",
       "        vertical-align: middle;\n",
       "    }\n",
       "\n",
       "    .dataframe tbody tr th {\n",
       "        vertical-align: top;\n",
       "    }\n",
       "\n",
       "    .dataframe thead th {\n",
       "        text-align: right;\n",
       "    }\n",
       "</style>\n",
       "<table border=\"1\" class=\"dataframe\">\n",
       "  <thead>\n",
       "    <tr style=\"text-align: right;\">\n",
       "      <th></th>\n",
       "      <th>movie_title</th>\n",
       "      <th>rating</th>\n",
       "      <th>user_rating</th>\n",
       "      <th>genres</th>\n",
       "      <th>director</th>\n",
       "      <th>top_5_casts</th>\n",
       "      <th>writer</th>\n",
       "      <th>year</th>\n",
       "    </tr>\n",
       "  </thead>\n",
       "  <tbody>\n",
       "    <tr>\n",
       "      <th>0</th>\n",
       "      <td>Top Gun: Maverick</td>\n",
       "      <td>8.6</td>\n",
       "      <td>187000.0</td>\n",
       "      <td>['Action', 'Drama']</td>\n",
       "      <td>Joseph Kosinski</td>\n",
       "      <td>['Jack Epps Jr.', 'Peter Craig', 'Tom Cruise',...</td>\n",
       "      <td>Jim Cash</td>\n",
       "      <td>2022</td>\n",
       "    </tr>\n",
       "    <tr>\n",
       "      <th>1</th>\n",
       "      <td>Jurassic World Dominion</td>\n",
       "      <td>6.0</td>\n",
       "      <td>56000.0</td>\n",
       "      <td>['Action', 'Adventure', 'Sci-Fi']</td>\n",
       "      <td>Colin Trevorrow</td>\n",
       "      <td>['Colin Trevorrow', 'Derek Connolly', 'Chris P...</td>\n",
       "      <td>Emily Carmichael</td>\n",
       "      <td>2022</td>\n",
       "    </tr>\n",
       "    <tr>\n",
       "      <th>2</th>\n",
       "      <td>Top Gun</td>\n",
       "      <td>6.9</td>\n",
       "      <td>380000.0</td>\n",
       "      <td>['Action', 'Drama']</td>\n",
       "      <td>Tony Scott</td>\n",
       "      <td>['Jack Epps Jr.', 'Ehud Yonay', 'Tom Cruise', ...</td>\n",
       "      <td>Jim Cash</td>\n",
       "      <td>1986</td>\n",
       "    </tr>\n",
       "    <tr>\n",
       "      <th>3</th>\n",
       "      <td>Lightyear</td>\n",
       "      <td>5.2</td>\n",
       "      <td>32000.0</td>\n",
       "      <td>['Animation', 'Action', 'Adventure']</td>\n",
       "      <td>Angus MacLane</td>\n",
       "      <td>['Jason Headley', 'Matthew Aldrich', 'Chris Ev...</td>\n",
       "      <td>Angus MacLane</td>\n",
       "      <td>2022</td>\n",
       "    </tr>\n",
       "    <tr>\n",
       "      <th>4</th>\n",
       "      <td>Spiderhead</td>\n",
       "      <td>5.4</td>\n",
       "      <td>23000.0</td>\n",
       "      <td>['Action', 'Crime', 'Drama']</td>\n",
       "      <td>Joseph Kosinski</td>\n",
       "      <td>['Rhett Reese', 'Paul Wernick', 'Chris Hemswor...</td>\n",
       "      <td>George Saunders</td>\n",
       "      <td>2022</td>\n",
       "    </tr>\n",
       "  </tbody>\n",
       "</table>\n",
       "</div>"
      ],
      "text/plain": [
       "               movie_title  rating  user_rating  \\\n",
       "0        Top Gun: Maverick     8.6     187000.0   \n",
       "1  Jurassic World Dominion     6.0      56000.0   \n",
       "2                  Top Gun     6.9     380000.0   \n",
       "3                Lightyear     5.2      32000.0   \n",
       "4               Spiderhead     5.4      23000.0   \n",
       "\n",
       "                                 genres         director  \\\n",
       "0                   ['Action', 'Drama']  Joseph Kosinski   \n",
       "1     ['Action', 'Adventure', 'Sci-Fi']  Colin Trevorrow   \n",
       "2                   ['Action', 'Drama']       Tony Scott   \n",
       "3  ['Animation', 'Action', 'Adventure']    Angus MacLane   \n",
       "4          ['Action', 'Crime', 'Drama']  Joseph Kosinski   \n",
       "\n",
       "                                         top_5_casts            writer  year  \n",
       "0  ['Jack Epps Jr.', 'Peter Craig', 'Tom Cruise',...          Jim Cash  2022  \n",
       "1  ['Colin Trevorrow', 'Derek Connolly', 'Chris P...  Emily Carmichael  2022  \n",
       "2  ['Jack Epps Jr.', 'Ehud Yonay', 'Tom Cruise', ...          Jim Cash  1986  \n",
       "3  ['Jason Headley', 'Matthew Aldrich', 'Chris Ev...     Angus MacLane  2022  \n",
       "4  ['Rhett Reese', 'Paul Wernick', 'Chris Hemswor...   George Saunders  2022  "
      ]
     },
     "execution_count": 75,
     "metadata": {},
     "output_type": "execute_result"
    }
   ],
   "source": [
    "movie.head()"
   ]
  },
  {
   "cell_type": "code",
   "execution_count": 84,
   "metadata": {},
   "outputs": [],
   "source": [
    "movie['genres'] = movie['genres'].str.replace(r\"\\]\",'',regex=True)\n",
    "movie['genres'] = movie['genres'].str.replace(r\"\\[\",'',regex=True)\n",
    "movie['genres'] = movie['genres'].str.replace(' ','',regex=True)\n"
   ]
  },
  {
   "cell_type": "code",
   "execution_count": null,
   "metadata": {},
   "outputs": [],
   "source": []
  }
 ],
 "metadata": {
  "kernelspec": {
   "display_name": "Python 3",
   "language": "python",
   "name": "python3"
  },
  "language_info": {
   "codemirror_mode": {
    "name": "ipython",
    "version": 3
   },
   "file_extension": ".py",
   "mimetype": "text/x-python",
   "name": "python",
   "nbconvert_exporter": "python",
   "pygments_lexer": "ipython3",
   "version": "3.11.0"
  },
  "orig_nbformat": 4
 },
 "nbformat": 4,
 "nbformat_minor": 2
}
